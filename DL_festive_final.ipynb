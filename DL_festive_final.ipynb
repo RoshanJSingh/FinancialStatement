{
  "cells": [
    {
      "cell_type": "markdown",
      "metadata": {
        "id": "view-in-github",
        "colab_type": "text"
      },
      "source": [
        "<a href=\"https://colab.research.google.com/github/AdithiVS/Financial-Sentiment-Analysis-using-LSTM/blob/main/DL_festive_final.ipynb\" target=\"_parent\"><img src=\"https://colab.research.google.com/assets/colab-badge.svg\" alt=\"Open In Colab\"/></a>"
      ]
    },
    {
      "cell_type": "code",
      "source": [
        "import os\n",
        "import logging\n",
        "import pandas as pd\n",
        "import numpy as np\n",
        "import re\n",
        "from sklearn.model_selection import train_test_split\n",
        "from sklearn.preprocessing import LabelEncoder\n",
        "from sklearn.metrics import classification_report, confusion_matrix, accuracy_score\n",
        "import seaborn as sns\n",
        "import matplotlib.pyplot as plt\n",
        "from tensorflow.keras.preprocessing.text import Tokenizer\n",
        "from tensorflow.keras.preprocessing.sequence import pad_sequences\n",
        "import tensorflow as tf\n",
        "from tensorflow.keras.layers import Input, Embedding, LSTM, Dense, Dropout\n",
        "import pickle"
      ],
      "metadata": {
        "id": "Jybap3DMt-4f"
      },
      "execution_count": 4,
      "outputs": []
    },
    {
      "cell_type": "code",
      "source": [
        "# Function to load data\n",
        "def load_data(file_path):\n",
        "    if not os.path.exists(file_path):\n",
        "        logging.error(f\"File {file_path} does not exist.\")\n",
        "        raise FileNotFoundError(f\"The file {file_path} was not found.\")\n",
        "    data = pd.read_csv(file_path)\n",
        "    logging.info(f\"Data loaded successfully with {data.shape[0]} rows and {data.shape[1]} columns.\")\n",
        "    return data\n",
        "\n",
        "# Preprocess text data\n",
        "def clean_text(text):\n",
        "    \"\"\"\n",
        "    Function to clean and preprocess text by removing special characters, converting to lowercase,\n",
        "    and stripping whitespaces.\n",
        "    \"\"\"\n",
        "    text = re.sub(r'[^a-zA-Z\\s]', '', text, re.I | re.A)  # Remove special characters\n",
        "    text = text.lower()  # Convert to lowercase\n",
        "    text = text.strip()  # Trim whitespaces\n",
        "    return text"
      ],
      "metadata": {
        "id": "BOOLhgt5zhuv"
      },
      "execution_count": 5,
      "outputs": []
    },
    {
      "cell_type": "code",
      "source": [
        "# Tokenize and pad sequences\n",
        "def preprocess_text_data(data, maxlen=100):\n",
        "    \"\"\"\n",
        "    Function to preprocess text by cleaning, tokenizing, and padding sequences.\n",
        "    \"\"\"\n",
        "    # Clean the text data\n",
        "    data['cleaned_text'] = data['Sentence'].map(clean_text)\n",
        "\n",
        "    # Tokenize the cleaned text\n",
        "    tokenizer = Tokenizer()\n",
        "    tokenizer.fit_on_texts(data['cleaned_text'])\n",
        "    X = tokenizer.texts_to_sequences(data['cleaned_text'])\n",
        "    X = pad_sequences(X, maxlen=maxlen)\n",
        "    logging.info(f\"Text data tokenized and padded to a shape of {X.shape}.\")\n",
        "\n",
        "    return X, tokenizer"
      ],
      "metadata": {
        "id": "8VFj7kh_0MHy"
      },
      "execution_count": 6,
      "outputs": []
    },
    {
      "cell_type": "code",
      "source": [
        "# Function to encode sentiment labels\n",
        "def encode_sentiments(data):\n",
        "    le = LabelEncoder()\n",
        "    data['encoded_sentiment'] = le.fit_transform(data['Sentiment'])\n",
        "    logging.info(f\"Sentiment labels encoded. Classes: {le.classes_}\")\n",
        "    return data, le"
      ],
      "metadata": {
        "id": "rFGl3h5Q0ID5"
      },
      "execution_count": 7,
      "outputs": []
    },
    {
      "cell_type": "code",
      "source": [
        "# Build the LSTM model\n",
        "def build_lstm_model(input_shape, tokenizer):\n",
        "    \"\"\"\n",
        "    Function to build and compile the LSTM model.\n",
        "    \"\"\"\n",
        "    input_layer = Input(shape=input_shape, dtype='int32')\n",
        "    embedding = Embedding(input_dim=len(tokenizer.word_index) + 1, output_dim=128)(input_layer)\n",
        "    lstm_1 = LSTM(128, return_sequences=True)(embedding)\n",
        "    dropout_1 = Dropout(0.5)(lstm_1)\n",
        "    lstm_2 = LSTM(64)(dropout_1)\n",
        "    output_layer = Dense(3, activation='softmax')(lstm_2)\n",
        "\n",
        "    model = tf.keras.Model(inputs=input_layer, outputs=output_layer)\n",
        "    model.compile(optimizer='adam', loss='sparse_categorical_crossentropy', metrics=['accuracy'])\n",
        "    logging.info(\"LSTM model built and compiled successfully.\")\n",
        "    return model"
      ],
      "metadata": {
        "id": "9PIpweGF0C3t"
      },
      "execution_count": 8,
      "outputs": []
    },
    {
      "cell_type": "code",
      "source": [
        "# Function to evaluate the model\n",
        "def evaluate_model(model, X_test, y_test):\n",
        "    y_pred = model.predict(X_test)\n",
        "    y_pred_classes = np.argmax(y_pred, axis=1)\n",
        "\n",
        "    # Calculate accuracy\n",
        "    accuracy = accuracy_score(y_test, y_pred_classes)\n",
        "    logging.info(f\"Accuracy: {accuracy:.2f}\")\n",
        "\n",
        "    # Generate classification report\n",
        "    logging.info(\"Classification Report:\")\n",
        "    print(classification_report(y_test, y_pred_classes))\n",
        "\n",
        "    # Confusion matrix\n",
        "    conf_matrix = confusion_matrix(y_test, y_pred_classes)\n",
        "    plt.figure(figsize=(8, 6))\n",
        "    sns.heatmap(conf_matrix, annot=True, fmt='d', cmap='Blues', xticklabels=le.classes_, yticklabels=le.classes_)\n",
        "    plt.xlabel('Predicted')\n",
        "    plt.ylabel('Actual')\n",
        "    plt.title('Confusion Matrix')\n",
        "    plt.show()"
      ],
      "metadata": {
        "id": "7Gxw-eD6z6eX"
      },
      "execution_count": 9,
      "outputs": []
    },
    {
      "cell_type": "code",
      "source": [
        "# Function to save model and tokenizer\n",
        "def save_model_and_tokenizer(model, tokenizer, model_filename='model.h5', tokenizer_filename='tokenizer.pkl'):\n",
        "    model.save(model_filename)\n",
        "    logging.info(f\"Model saved as {model_filename}.\")\n",
        "\n",
        "    with open(tokenizer_filename, 'wb') as handle:\n",
        "        pickle.dump(tokenizer, handle)\n",
        "    logging.info(f\"Tokenizer saved as {tokenizer_filename}.\")"
      ],
      "metadata": {
        "id": "lwMoEdkBz33K"
      },
      "execution_count": 10,
      "outputs": []
    },
    {
      "cell_type": "code",
      "source": [
        "# Main execution flow\n",
        "def main(file_path='data.csv'):\n",
        "    # Load and preprocess data\n",
        "    data = load_data(file_path)\n",
        "    X, tokenizer = preprocess_text_data(data)\n",
        "    data, le = encode_sentiments(data)\n",
        "\n",
        "    # Train-test split\n",
        "    y = data['encoded_sentiment']\n",
        "    X_train, X_test, y_train, y_test = train_test_split(X, y, test_size=0.2, random_state=42)\n",
        "    logging.info(f\"Data split into training and test sets with {X_train.shape[0]} train samples and {X_test.shape[0]} test samples.\")\n",
        "\n",
        "    # Build and train model\n",
        "    model = build_lstm_model(input_shape=(X.shape[1],), tokenizer=tokenizer)\n",
        "    model.fit(X_train, y_train, epochs=5, batch_size=32, validation_data=(X_test, y_test))\n",
        "\n",
        "    # Save model and tokenizer\n",
        "    save_model_and_tokenizer(model, tokenizer)\n",
        "\n",
        "    # Evaluate the model\n",
        "    evaluate_model(model, X_test, y_test)"
      ],
      "metadata": {
        "id": "mpuQ-ubizyGj"
      },
      "execution_count": 11,
      "outputs": []
    },
    {
      "cell_type": "code",
      "source": [
        "# Example of testing the model with new input text\n",
        "def predict_sentiment(text, model, tokenizer, le):\n",
        "    cleaned_text = clean_text(text)\n",
        "    seq = tokenizer.texts_to_sequences([cleaned_text])\n",
        "    padded = pad_sequences(seq, maxlen=100)\n",
        "    prediction = model.predict(padded)\n",
        "    predicted_label = np.argmax(prediction)\n",
        "    sentiment = le.inverse_transform([predicted_label])[0]\n",
        "    logging.info(f\"Predicted Sentiment: {sentiment}\")\n",
        "    return sentiment\n",
        "\n",
        "if __name__ == \"__main__\":\n",
        "    main()\n"
      ],
      "metadata": {
        "colab": {
          "base_uri": "https://localhost:8080/",
          "height": 977
        },
        "id": "aoCGrEv1zuck",
        "outputId": "9989a67c-43f5-4fe3-da31-c267207422ac"
      },
      "execution_count": 12,
      "outputs": [
        {
          "output_type": "stream",
          "name": "stdout",
          "text": [
            "Epoch 1/5\n",
            "\u001b[1m147/147\u001b[0m \u001b[32m━━━━━━━━━━━━━━━━━━━━\u001b[0m\u001b[37m\u001b[0m \u001b[1m46s\u001b[0m 291ms/step - accuracy: 0.5508 - loss: 0.9587 - val_accuracy: 0.6852 - val_loss: 0.7472\n",
            "Epoch 2/5\n",
            "\u001b[1m147/147\u001b[0m \u001b[32m━━━━━━━━━━━━━━━━━━━━\u001b[0m\u001b[37m\u001b[0m \u001b[1m83s\u001b[0m 300ms/step - accuracy: 0.7568 - loss: 0.5936 - val_accuracy: 0.7134 - val_loss: 0.6940\n",
            "Epoch 3/5\n",
            "\u001b[1m147/147\u001b[0m \u001b[32m━━━━━━━━━━━━━━━━━━━━\u001b[0m\u001b[37m\u001b[0m \u001b[1m45s\u001b[0m 305ms/step - accuracy: 0.8651 - loss: 0.3247 - val_accuracy: 0.7074 - val_loss: 0.8500\n",
            "Epoch 4/5\n",
            "\u001b[1m147/147\u001b[0m \u001b[32m━━━━━━━━━━━━━━━━━━━━\u001b[0m\u001b[37m\u001b[0m \u001b[1m79s\u001b[0m 284ms/step - accuracy: 0.8954 - loss: 0.2225 - val_accuracy: 0.6980 - val_loss: 0.9528\n",
            "Epoch 5/5\n",
            "\u001b[1m147/147\u001b[0m \u001b[32m━━━━━━━━━━━━━━━━━━━━\u001b[0m\u001b[37m\u001b[0m \u001b[1m82s\u001b[0m 284ms/step - accuracy: 0.8962 - loss: 0.1869 - val_accuracy: 0.6997 - val_loss: 0.9930\n"
          ]
        },
        {
          "output_type": "stream",
          "name": "stderr",
          "text": [
            "WARNING:absl:You are saving your model as an HDF5 file via `model.save()` or `keras.saving.save_model(model)`. This file format is considered legacy. We recommend using instead the native Keras format, e.g. `model.save('my_model.keras')` or `keras.saving.save_model(model, 'my_model.keras')`. \n"
          ]
        },
        {
          "output_type": "stream",
          "name": "stdout",
          "text": [
            "\u001b[1m37/37\u001b[0m \u001b[32m━━━━━━━━━━━━━━━━━━━━\u001b[0m\u001b[37m\u001b[0m \u001b[1m3s\u001b[0m 81ms/step\n",
            "              precision    recall  f1-score   support\n",
            "\n",
            "           0       0.35      0.22      0.27       175\n",
            "           1       0.73      0.82      0.77       622\n",
            "           2       0.75      0.73      0.74       372\n",
            "\n",
            "    accuracy                           0.70      1169\n",
            "   macro avg       0.61      0.59      0.59      1169\n",
            "weighted avg       0.68      0.70      0.69      1169\n",
            "\n"
          ]
        },
        {
          "output_type": "display_data",
          "data": {
            "text/plain": [
              "<Figure size 800x600 with 2 Axes>"
            ],
            "image/png": "[encoded data removed]"
          },
          "metadata": {}
        }
      ]
    }
  ],
  "metadata": {
    "colab": {
      "provenance": [],
      "authorship_tag": "ABX9TyN1ExJyCVc2rgMBkhjn0qtd",
      "include_colab_link": true
    },
    "kernelspec": {
      "display_name": "Python 3",
      "name": "python3"
    },
    "language_info": {
      "name": "python"
    }
  },
  "nbformat": 4,
  "nbformat_minor": 0
}